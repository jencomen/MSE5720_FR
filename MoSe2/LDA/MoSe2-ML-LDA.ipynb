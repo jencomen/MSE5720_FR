{
 "cells": [
  {
   "cell_type": "code",
   "execution_count": null,
   "metadata": {
    "collapsed": true
   },
   "outputs": [],
   "source": [
    "%matplotlib inline\n",
    "%config InlineBackend.figure_format = 'retina'\n",
    "import matplotlib.pyplot as plt\n",
    "import matplotlib as mpl\n",
    "import warnings\n",
    "warnings.filterwarnings(\"ignore\", module=\"matplotlib\")\n",
    "f_size=32\n",
    "mpl.rcParams['xtick.labelsize']=f_size\n",
    "mpl.rcParams['ytick.labelsize']=f_size\n",
    "mpl.rcParams['axes.labelweight']='light'\n",
    "mpl.rcParams['axes.labelsize']=f_size\n",
    "mpl.rcParams['font.size']=f_size\n",
    "mpl.rcParams['font.family']='sans-serif'\n",
    "mpl.rcParams['font.sans-serif']='Helvetica'\n",
    "mpl.rcParams['font.style']='normal'\n",
    "mpl.rcParams['font.weight']='light'\n",
    "mpl.rcParams['figure.dpi']=600\n",
    "mpl.rcParams['figure.figsize']=(1.0,1.0)\n",
    "mpl.rcParams['legend.frameon']=False;\n",
    "mpl.rcParams['figure.autolayout']=True;\n",
    "mpl.rcParams['xtick.major.size']=10;\n",
    "mpl.rcParams['xtick.major.width']=1.5\n",
    "mpl.rcParams['xtick.minor.size']=6;\n",
    "mpl.rcParams['xtick.minor.width']=1\n",
    "mpl.rcParams['ytick.major.size']=8\n",
    "mpl.rcParams['ytick.major.width']=1.5\n",
    "mpl.rcParams['ytick.minor.size']=4;\n",
    "mpl.rcParams['ytick.minor.width']=1\n",
    "mpl.rcParams['legend.fontsize']=f_size\n",
    "#mpl.rcParams['text.fontsize'] =f_size\n",
    "mpl.rcParams['mathtext.fontset'] = 'custom'\n",
    "mpl.rcParams['mathtext.rm'] = 'Helvetica'\n",
    "colors=['black','Coral','Red','DarkOrange','Brown','Gold','MediumSeaGreen','Green','LightSeaGreen',\n",
    "       'SteelBlue','Blue','Navy','DarkViolet','DeepPink']\n",
    "\n",
    "#import mpld3\n",
    "#mpld3.enable_notebook()\n",
    "import pandas as pd\n",
    "import numpy as np\n",
    "engine='python'"
   ]
  },
  {
   "cell_type": "markdown",
   "metadata": {},
   "source": [
    "Relaxed lattice parameters:\n",
    " - $a=3.24774246$ Å\n",
    " - $c=12.7356322$ Å"
   ]
  },
  {
   "cell_type": "markdown",
   "metadata": {},
   "source": [
    "# $MoSe_2$ 1x1"
   ]
  },
  {
   "cell_type": "code",
   "execution_count": 2,
   "metadata": {
    "collapsed": false
   },
   "outputs": [
    {
     "name": "stdout",
     "output_type": "stream",
     "text": [
      "6.137346218751004 6.158123757140522\n"
     ]
    }
   ],
   "source": [
    "bohr2AA=0.529177\n",
    "ry2eV=13.605698\n",
    "a_AA=3.24774246\n",
    "cSC_AA=20\n",
    "a_Bohr=a_AA/bohr2AA\n",
    "dim3=cSC_AA/a_AA\n",
    "print(a_Bohr,dim3)"
   ]
  },
  {
   "cell_type": "markdown",
   "metadata": {},
   "source": [
    "# $MoSe_2$ 2x2 Supercell"
   ]
  },
  {
   "cell_type": "code",
   "execution_count": 7,
   "metadata": {
    "collapsed": false
   },
   "outputs": [
    {
     "name": "stdout",
     "output_type": "stream",
     "text": [
      "12.274692437502008 3.079061878570261\n"
     ]
    }
   ],
   "source": [
    "bohr2AA=0.529177\n",
    "ry2eV=13.605698\n",
    "a_AA=3.24774246\n",
    "aSC_AA=2*a_AA\n",
    "cSC_AA=20\n",
    "aSC_Bohr=aSC_AA/bohr2AA\n",
    "dim3=cSC_AA/aSC_AA\n",
    "print(aSC_Bohr,dim3)"
   ]
  },
  {
   "cell_type": "code",
   "execution_count": 10,
   "metadata": {
    "collapsed": false
   },
   "outputs": [
    {
     "name": "stdout",
     "output_type": "stream",
     "text": [
      "0.027211396000000002\n"
     ]
    }
   ],
   "source": [
    "print(0.002*ry2eV)"
   ]
  },
  {
   "cell_type": "code",
   "execution_count": null,
   "metadata": {
    "collapsed": true
   },
   "outputs": [],
   "source": []
  },
  {
   "cell_type": "markdown",
   "metadata": {},
   "source": [
    "# $MoSe_2$ 3x3 Supercell"
   ]
  },
  {
   "cell_type": "code",
   "execution_count": 3,
   "metadata": {
    "collapsed": false
   },
   "outputs": [
    {
     "name": "stdout",
     "output_type": "stream",
     "text": [
      "18.412038656253014 2.0527079190468402\n"
     ]
    }
   ],
   "source": [
    "bohr2AA=0.529177\n",
    "ry2eV=13.605698\n",
    "a_AA=3.24774246\n",
    "aSC_AA=3*a_AA\n",
    "cSC_AA=20\n",
    "aSC_Bohr=aSC_AA/bohr2AA\n",
    "dim3=cSC_AA/aSC_AA\n",
    "print(aSC_Bohr,dim3)"
   ]
  },
  {
   "cell_type": "code",
   "execution_count": null,
   "metadata": {
    "collapsed": true
   },
   "outputs": [],
   "source": []
  }
 ],
 "metadata": {
  "anaconda-cloud": {},
  "kernelspec": {
   "display_name": "Python [conda root]",
   "language": "python",
   "name": "conda-root-py"
  },
  "language_info": {
   "codemirror_mode": {
    "name": "ipython",
    "version": 3
   },
   "file_extension": ".py",
   "mimetype": "text/x-python",
   "name": "python",
   "nbconvert_exporter": "python",
   "pygments_lexer": "ipython3",
   "version": "3.5.2"
  }
 },
 "nbformat": 4,
 "nbformat_minor": 1
}
